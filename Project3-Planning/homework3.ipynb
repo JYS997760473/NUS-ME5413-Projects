{
 "cells": [
  {
   "cell_type": "code",
   "execution_count": 41,
   "id": "c1f302bc-6e90-41c8-9464-088e20c771be",
   "metadata": {},
   "outputs": [],
   "source": [
    "import numpy as np\n",
    "import imageio.v2 as imageio\n",
    "import matplotlib.pyplot as plt\n",
    "%matplotlib inline"
   ]
  },
  {
   "cell_type": "code",
   "execution_count": null,
   "id": "2d5ead6d-ed5b-4783-adce-d3485dc75289",
   "metadata": {},
   "outputs": [],
   "source": [
    "# Load the map\n",
    "floor_plan = imageio.imread('./map/vivocity.png')\n",
    "grid_map = imageio.imread('./map/vivocity_freespace.png')\n",
    "print(\"Size of the map:\", grid_map.shape)\n",
    "print(\"Occupied Cells:\", np.count_nonzero(grid_map == 0)) # occupied cells are black, 0\n",
    "print(\"Free Cells:\", np.count_nonzero(grid_map == 255)) # free cells are while, 255\n",
    "\n",
    "# Map resolution (Constant)\n",
    "MAP_RES = 0.2 # each cell represents a 0.2m x 0.2m square in reality\n",
    "\n",
    "# Locations on the map\n",
    "locations = {'start': [345, 95],    # Start from the level 2 Escalator\n",
    "             'snacks': [470, 475],  # Garrett Popcorn\n",
    "             'store': [20, 705],    # DJI Store\n",
    "             'movie': [940, 545],   # Golden Village\n",
    "             'food': [535, 800],    # PUTIEN\n",
    "            }\n",
    "\n",
    "# A helper function to mark the locations on the map\n",
    "def plot_locations(locations: dict, color: 'str'='black'):\n",
    "    for key, value in locations.items():\n",
    "        plt.plot(locations[key][0], locations[key][1], marker=\"o\", markersize=10, markeredgecolor=\"red\")\n",
    "        plt.text(locations[key][0], locations[key][1]-15, s=key, fontsize='x-large', fontweight='bold', c=color, ha='center')\n",
    "    return\n",
    "\n",
    "# # Plot the locaitons on the map \n",
    "# plt.figure(figsize=(20, 10), dpi=80)\n",
    "# plt.subplot(1,2,1)\n",
    "# plt.imshow(floor_plan)\n",
    "# plot_locations(locations)\n",
    "# plt.subplot(1,2,2)\n",
    "# plt.imshow(grid_map, cmap='gray')\n",
    "# plot_locations(locations, color='cyan')\n",
    "# plt.show()\n",
    "\n",
    "# convert locations to tuple format:\n",
    "for i in locations.keys():\n",
    "    locations[i] = (locations[i][0], locations[i][1])"
   ]
  },
  {
   "attachments": {},
   "cell_type": "markdown",
   "id": "b42d9d91-d6fc-44a0-a6a6-542c65c8e66d",
   "metadata": {},
   "source": [
    "## Task 1"
   ]
  },
  {
   "attachments": {},
   "cell_type": "markdown",
   "id": "a678ed7d",
   "metadata": {},
   "source": [
    "## Task 1"
   ]
  },
  {
   "cell_type": "code",
   "execution_count": 51,
   "id": "0a18f9a5",
   "metadata": {},
   "outputs": [],
   "source": [
    "class Node():\n",
    "    \"\"\"A node class for A* Pathfinding\"\"\"\n",
    "\n",
    "    def __init__(self, parent=None, position=None):\n",
    "        print(f\"create Node\")\n",
    "        self.parent = parent\n",
    "        self.position = position\n",
    "\n",
    "        self.g = 0\n",
    "        self.h = 0\n",
    "        self.f = 0\n",
    "\n",
    "    def __eq__(self, other):\n",
    "        return self.position == other.position\n",
    "\n",
    "\n",
    "def astar(maze, start, end):\n",
    "    \"\"\"Returns a list of tuples as a path from the given start to the given end in the given maze\"\"\"\n",
    "\n",
    "    # Create start and end node\n",
    "    start_node = Node(None, start)\n",
    "    start_node.g = start_node.h = start_node.f = 0\n",
    "    end_node = Node(None, end)\n",
    "    end_node.g = end_node.h = end_node.f = 0\n",
    "\n",
    "    # Initialize both open and closed list\n",
    "    open_list = []\n",
    "    closed_list = []\n",
    "\n",
    "    # Add the start node\n",
    "    open_list.append(start_node)\n",
    "\n",
    "    # Loop until you find the end\n",
    "    while len(open_list) > 0:\n",
    "\n",
    "        # Get the current node\n",
    "        current_node = open_list[0]\n",
    "        current_index = 0\n",
    "        for index, item in enumerate(open_list):\n",
    "            if item.f < current_node.f:\n",
    "                current_node = item\n",
    "                current_index = index\n",
    "\n",
    "        # Pop current off open list, add to closed list\n",
    "        open_list.pop(current_index)\n",
    "        closed_list.append(current_node)\n",
    "\n",
    "        # Found the goal\n",
    "        if current_node == end_node:\n",
    "            path = []\n",
    "            current = current_node\n",
    "            while current is not None:\n",
    "                path.append(current.position)\n",
    "                current = current.parent\n",
    "            return path[::-1] # Return reversed path\n",
    "\n",
    "        # Generate children\n",
    "        children = []\n",
    "        for new_position in [(0, -1), (0, 1), (-1, 0), (1, 0), (-1, -1), (-1, 1), (1, -1), (1, 1)]: # Adjacent squares\n",
    "\n",
    "            # Get node position\n",
    "            node_position = (current_node.position[0] + new_position[0], current_node.position[1] + new_position[1])\n",
    "\n",
    "            print(f\"color:{maze[node_position]}\")\n",
    "            # Make sure within range\n",
    "            if node_position[0] > (len(maze) - 1) or node_position[0] < 0 or node_position[1] > (len(maze[len(maze)-1]) -1) or node_position[1] < 0:\n",
    "                continue\n",
    "\n",
    "            # Make sure walkable terrain\n",
    "            if maze[node_position[0]][node_position[1]] != 255:\n",
    "                continue\n",
    "\n",
    "            # Create new node\n",
    "            new_node = Node(current_node, node_position)\n",
    "\n",
    "            # Append\n",
    "            children.append(new_node)\n",
    "\n",
    "        # Loop through children\n",
    "        for child in children:\n",
    "\n",
    "            # Child is on the closed list\n",
    "            for closed_child in closed_list:\n",
    "                if child == closed_child:\n",
    "                    continue\n",
    "\n",
    "            # Create the f, g, and h values\n",
    "            child.g = current_node.g + 1\n",
    "            child.h = ((child.position[0] - end_node.position[0]) ** 2) + ((child.position[1] - end_node.position[1]) ** 2)\n",
    "            child.f = child.g + child.h\n",
    "\n",
    "            # Child is already in the open list\n",
    "            for open_node in open_list:\n",
    "                if child == open_node and child.g > open_node.g:\n",
    "                    continue\n",
    "\n",
    "            # Add the child to the open list\n",
    "            open_list.append(child)"
   ]
  },
  {
   "cell_type": "code",
   "execution_count": 58,
   "id": "ead8d0e5-d2aa-49ed-bf9a-1068f8449c6f",
   "metadata": {},
   "outputs": [
    {
     "data": {
      "text/plain": [
       "0"
      ]
     },
     "execution_count": 58,
     "metadata": {},
     "output_type": "execute_result"
    }
   ],
   "source": [
    "start = locations['start']\n",
    "end = locations['movie']\n",
    "# path = astar(grid_map, start, end)\n",
    "# path = astar(grid_map, start, end)\n",
    "# start\n",
    "grid_map[350, 95]"
   ]
  },
  {
   "cell_type": "markdown",
   "id": "82431fbf-913f-4b8a-9634-bbe586efb331",
   "metadata": {
    "tags": []
   },
   "source": [
    "## Task 2"
   ]
  },
  {
   "cell_type": "code",
   "execution_count": 19,
   "id": "43d2ce38-a524-457e-8d25-5e9ddf2c49df",
   "metadata": {},
   "outputs": [],
   "source": []
  },
  {
   "cell_type": "markdown",
   "id": "43bae464-2229-4c1e-84b2-29d8fbb65629",
   "metadata": {},
   "source": [
    "## Task 3"
   ]
  },
  {
   "cell_type": "code",
   "execution_count": null,
   "id": "0cf188e3-a399-472a-b603-ca6990f67eef",
   "metadata": {},
   "outputs": [],
   "source": []
  }
 ],
 "metadata": {
  "kernelspec": {
   "display_name": "env",
   "language": "python",
   "name": "python3"
  },
  "language_info": {
   "codemirror_mode": {
    "name": "ipython",
    "version": 3
   },
   "file_extension": ".py",
   "mimetype": "text/x-python",
   "name": "python",
   "nbconvert_exporter": "python",
   "pygments_lexer": "ipython3",
   "version": "3.8.10 (default, Nov 14 2022, 12:59:47) \n[GCC 9.4.0]"
  },
  "vscode": {
   "interpreter": {
    "hash": "655ae51229b782cac76263ff3f2477e70a572652fbb14941657dd1a2951b5a61"
   }
  }
 },
 "nbformat": 4,
 "nbformat_minor": 5
}
